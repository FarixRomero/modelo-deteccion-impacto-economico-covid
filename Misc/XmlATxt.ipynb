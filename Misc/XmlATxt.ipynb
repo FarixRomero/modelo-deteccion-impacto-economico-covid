{
 "cells": [
  {
   "cell_type": "code",
   "execution_count": 3,
   "metadata": {},
   "outputs": [
    {
     "name": "stdout",
     "output_type": "stream",
     "text": [
      "Conversión completada.\n"
     ]
    }
   ],
   "source": [
    "import os\n",
    "import xml.etree.ElementTree as ET\n",
    "\n",
    "# Ruta de la carpeta que contiene los archivos XML de anotaciones\n",
    "xml_folder = \"/home/farix/python/yolov5/dataImagen/labels/valxml/\"\n",
    "\n",
    "# Ruta de la carpeta de salida para los archivos de texto YOLO\n",
    "output_folder = \"/home/farix/python/yolov5/dataImagen/labels/val/\"\n",
    "\n",
    "# Diccionario de mapeo de nombres de clases a números de clase de YOLO\n",
    "class_mapping = {\"boat\": 0}  # Agrega más clases según tus datos\n",
    "\n",
    "# Itera a través de los archivos XML en la carpeta de entrada\n",
    "for xml_file in os.listdir(xml_folder):\n",
    "    if xml_file.endswith(\".xml\"):\n",
    "        # Parsea el archivo XML\n",
    "        tree = ET.parse(os.path.join(xml_folder, xml_file))\n",
    "        root = tree.getroot()\n",
    "\n",
    "        # Obtiene la información de la imagen\n",
    "        image_width = int(root.find(\"size/width\").text)\n",
    "        image_height = int(root.find(\"size/height\").text)\n",
    "\n",
    "        # Crea un archivo de texto de salida con el mismo nombre pero extensión .txt\n",
    "        txt_file = os.path.splitext(xml_file)[0] + \".txt\"\n",
    "        with open(os.path.join(output_folder, txt_file), \"w\") as txt_out:\n",
    "            # Itera a través de los objetos en el archivo XML\n",
    "            for obj in root.findall(\"object\"):\n",
    "                class_name = obj.find(\"name\").text\n",
    "                class_id = class_mapping.get(class_name)\n",
    "                if class_id is not None:\n",
    "                    xmin = int(obj.find(\"bndbox/xmin\").text)\n",
    "                    ymin = int(obj.find(\"bndbox/ymin\").text)\n",
    "                    xmax = int(obj.find(\"bndbox/xmax\").text)\n",
    "                    ymax = int(obj.find(\"bndbox/ymax\").text)\n",
    "\n",
    "                    # Calcula las coordenadas normalizadas (valores entre 0 y 1) para YOLO\n",
    "                    x_center = (xmin + xmax) / (2.0 * image_width)\n",
    "                    y_center = (ymin + ymax) / (2.0 * image_height)\n",
    "                    width = (xmax - xmin) / image_width\n",
    "                    height = (ymax - ymin) / image_height\n",
    "\n",
    "                    # Escribe la línea en el archivo de texto YOLO\n",
    "                    txt_out.write(f\"{class_id} {x_center} {y_center} {width} {height}\\n\")\n",
    "\n",
    "print(\"Conversión completada.\")\n"
   ]
  }
 ],
 "metadata": {
  "kernelspec": {
   "display_name": "yolov5",
   "language": "python",
   "name": "python3"
  },
  "language_info": {
   "codemirror_mode": {
    "name": "ipython",
    "version": 3
   },
   "file_extension": ".py",
   "mimetype": "text/x-python",
   "name": "python",
   "nbconvert_exporter": "python",
   "pygments_lexer": "ipython3",
   "version": "3.11.4"
  },
  "orig_nbformat": 4
 },
 "nbformat": 4,
 "nbformat_minor": 2
}
