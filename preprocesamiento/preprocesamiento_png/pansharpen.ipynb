{
 "cells": [
  {
   "cell_type": "code",
   "execution_count": 13,
   "id": "8b8af6e9",
   "metadata": {},
   "outputs": [
    {
     "name": "stdout",
     "output_type": "stream",
     "text": [
      "El archivo /home/farix/python/dataset/TPCallao/ALTARESO/IMG_PER1_20230129153659_ORT_P_000054_pansharpened.tif ya existe, omitiendo el proceso de pansharpening.\n",
      "0...10...20...30...40...50...60...70...80...90...100 - done.\n"
     ]
    }
   ],
   "source": [
    "from osgeo_utils.gdal_pansharpen import gdal_pansharpen\n",
    "from osgeo import gdal\n",
    "import os\n",
    "\n",
    "# Directorio principal donde se encuentran las carpetas de imágenes\n",
    "base_dir = \"/home/farix/python/dataset\"\n",
    "\n",
    "# Lista de nombres de puertos o subdirectorios\n",
    "nombres_de_puertos = [\"TPCallao\"]\n",
    "\n",
    "# Iterar a través de los nombres de puertos\n",
    "for puerto in nombres_de_puertos:\n",
    "    # Carpeta de imágenes espectrales RGB\n",
    "    spectral_dir = os.path.join(base_dir, puerto, \"ESPECTRAL\")\n",
    "    \n",
    "    # Carpeta de imágenes pancromáticas\n",
    "    pan_dir = os.path.join(base_dir, puerto, \"PANCROMATICA\")\n",
    "    \n",
    "    # Carpeta de salida TIFF\n",
    "    output_dir = os.path.join(base_dir, puerto, \"ALTARESO\")\n",
    "    \n",
    "    # Crear la carpeta de salida si no existe\n",
    "    os.makedirs(output_dir, exist_ok=True)\n",
    "    \n",
    "    # Obtener la lista de archivos en la carpeta pancromática\n",
    "    pan_files = [os.path.join(pan_dir, file) for file in os.listdir(pan_dir) if file.endswith(\".TIF\")]\n",
    "    \n",
    "    # Iterar a través de las imágenes pancromáticas\n",
    "    for pan_file in pan_files:\n",
    "        # Nombre del archivo espectro basado en el nombre del archivo pancromático\n",
    "        spectral_name = os.path.basename(pan_file).replace(\"_P_\", \"_MS_\")\n",
    "        spectral_file = os.path.join(spectral_dir, spectral_name)\n",
    "        \n",
    "        # Nombre del archivo de salida en la carpeta TIFF\n",
    "        output_filename = os.path.join(output_dir, os.path.splitext(os.path.basename(pan_file))[0] + \"_pansharpened.tif\")\n",
    "        # Verificar si el archivo de salida ya existe\n",
    "        if not os.path.exists(output_filename):\n",
    "            # Realizar el proceso de pansharpening si no existe\n",
    "            gdal_pansharpen(pan_name=pan_file, spectral_names=[spectral_file], dst_filename=output_filename, band_nums=[1, 2, 3, 4])\n",
    "        else:\n",
    "            print(f\"El archivo {output_filename} ya existe, omitiendo el proceso de pansharpening.\")\n"
   ]
  },
  {
   "cell_type": "code",
   "execution_count": 14,
   "id": "fd78d10a",
   "metadata": {},
   "outputs": [
    {
     "name": "stdout",
     "output_type": "stream",
     "text": [
      "0...10...20...30...40...50...60...70...80...90...100 - done.\n"
     ]
    },
    {
     "data": {
      "text/plain": [
       "0"
      ]
     },
     "execution_count": 14,
     "metadata": {},
     "output_type": "execute_result"
    }
   ],
   "source": [
    "# from osgeo_utils.gdal_pansharpen import gdal_pansharpen\n",
    "# from osgeo import gdal\n",
    "# gdal.UseExceptions() # <---- Add this line\n",
    "# import numpy as np\n",
    "# import os\n",
    "\n",
    "# # Nombres de archivo de entrada y salida\n",
    "# pan_name = \"/home/farix/python/imagen/Pancromatica.tif\" # Imagen pancromática\n",
    "# spectral_names = [\"/home/farix/python/imagen/rgbImagen.tif\"] # Imagen RGB\n",
    "# dst_filename = \"output_pansharpened.tif\" # Imagen de salida\n",
    "\n",
    "# # Números de banda para la imagen\n",
    "# band_nums = [1, 2, 3, 4]\n",
    "\n",
    "# # Realiza el proceso de pansharpening\n",
    "# gdal_pansharpen(pan_name=pan_name, spectral_names=spectral_names, dst_filename=dst_filename, band_nums=band_nums)"
   ]
  }
 ],
 "metadata": {
  "kernelspec": {
   "display_name": "Python 3 (ipykernel)",
   "language": "python",
   "name": "python3"
  },
  "language_info": {
   "codemirror_mode": {
    "name": "ipython",
    "version": 3
   },
   "file_extension": ".py",
   "mimetype": "text/x-python",
   "name": "python",
   "nbconvert_exporter": "python",
   "pygments_lexer": "ipython3",
   "version": "3.11.4"
  }
 },
 "nbformat": 4,
 "nbformat_minor": 5
}
