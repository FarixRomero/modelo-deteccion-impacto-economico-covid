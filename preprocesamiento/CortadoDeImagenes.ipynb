{
 "cells": [
  {
   "cell_type": "code",
   "execution_count": 2,
   "metadata": {},
   "outputs": [],
   "source": [
    "from osgeo import gdal\n",
    "import os\n"
   ]
  },
  {
   "cell_type": "code",
   "execution_count": 5,
   "metadata": {},
   "outputs": [],
   "source": [
    "def cut_image_into_blocks(image_path, output_folder):\n",
    "    dataset = gdal.Open(image_path)\n",
    "    width = dataset.RasterXSize\n",
    "    height = dataset.RasterYSize\n",
    "    data_type = dataset.GetRasterBand(1).DataType\n",
    "\n",
    "    block_width = width // 4  # Dividir en 4 columnas\n",
    "    block_height = height // 4  # Dividir en 4 filas\n",
    "\n",
    "    if not os.path.exists(output_folder):\n",
    "        os.makedirs(output_folder)\n",
    "\n",
    "    for row in range(4):\n",
    "        for col in range(4):\n",
    "            x_offset = col * block_width\n",
    "            y_offset = row * block_height\n",
    "            output_name = f\"block_{row}_{col}.tif\"\n",
    "            output_path = os.path.join(output_folder, output_name)\n",
    "\n",
    "            # Construye el comando gdal_translate\n",
    "            cmd = f\"gdal_translate -srcwin {x_offset} {y_offset} {block_width} {block_height} -of GTiff -co PHOTOMETRIC=RGB -ot UInt16 {image_path} {output_path}\"\n",
    "\n",
    "            # Ejecuta el comando en la línea de comandos\n",
    "            os.system(cmd)"
   ]
  },
  {
   "cell_type": "code",
   "execution_count": 6,
   "metadata": {},
   "outputs": [
    {
     "name": "stdout",
     "output_type": "stream",
     "text": [
      "Input file size is 7905, 9125\n",
      "0...10...20...30...40...50...60...70...80...90...100 - done.\n",
      "Input file size is 7905, 9125\n",
      "0...10...20...30...40...50...60...70...80...90...100 - done.\n",
      "Input file size is 7905, 9125\n",
      "0...10...20...30...40...50...60...70...80...90...100 - done.\n",
      "Input file size is 7905, 9125\n",
      "0...10...20...30...40...50...60...70...80...90...100 - done.\n",
      "Input file size is 7905, 9125\n",
      "0...10...20...30...40...50...60...70...80...90...100 - done.\n",
      "Input file size is 7905, 9125\n",
      "0...10...20...30...40...50...60...70...80...90...100 - done.\n",
      "Input file size is 7905, 9125\n",
      "0...10...20...30...40...50...60...70...80...90...100 - done.\n",
      "Input file size is 7905, 9125\n",
      "0...10...20...30...40...50...60...70...80...90...100 - done.\n",
      "Input file size is 7905, 9125\n",
      "0...10...20...30...40...50...60...70...80...90...100 - done.\n",
      "Input file size is 7905, 9125\n",
      "0...10...20...30...40...50...60...70...80...90...100 - done.\n",
      "Input file size is 7905, 9125\n",
      "0...10...20...30...40...50...60...70...80...90...100 - done.\n",
      "Input file size is 7905, 9125\n",
      "0...10...20...30...40...50...60...70...80...90...100 - done.\n",
      "Input file size is 7905, 9125\n",
      "0...10...20...30...40...50...60...70...80...90...100 - done.\n",
      "Input file size is 7905, 9125\n",
      "0...10...20...30...40...50...60...70...80...90...100 - done.\n",
      "Input file size is 7905, 9125\n",
      "0...10...20...30...40...50...60...70...80...90...100 - done.\n",
      "Input file size is 7905, 9125\n",
      "0...10...20...30...40...50...60...70...80...90...100 - done.\n"
     ]
    }
   ],
   "source": [
    "input_image_path = \"../imagen/rgbImagen.tif\"\n",
    "output_folder = \"../output_blocksv3\"\n",
    "cut_image_into_blocks(input_image_path, output_folder)\n"
   ]
  },
  {
   "cell_type": "code",
   "execution_count": 2,
   "metadata": {},
   "outputs": [],
   "source": [
    "import os\n",
    "from osgeo import gdal\n",
    "\n",
    "def cut_image_into_blocks512x512(image_path, output_folder):\n",
    "    dataset = gdal.Open(image_path)\n",
    "    width = dataset.RasterXSize\n",
    "    height = dataset.RasterYSize\n",
    "    data_type = dataset.GetRasterBand(1).DataType\n",
    "\n",
    "    block_width = 512\n",
    "    block_height = 512\n",
    "\n",
    "    if not os.path.exists(output_folder):\n",
    "        os.makedirs(output_folder)\n",
    "\n",
    "    for y_offset in range(0, height, block_height):\n",
    "        for x_offset in range(0, width, block_width):\n",
    "            x_size = min(block_width, width - x_offset)\n",
    "            y_size = min(block_height, height - y_offset)\n",
    "            \n",
    "            output_name = f\"block_{y_offset}_{x_offset}.tif\"\n",
    "            output_path = os.path.join(output_folder, output_name)\n",
    "            \n",
    "            gdal.Translate(output_path, dataset, format=\"GTiff\", srcWin=[x_offset, y_offset, x_size, y_size], \\\n",
    "                           creationOptions=[\"PHOTOMETRIC=RGB\"], outputType=data_type)\n",
    "\n"
   ]
  },
  {
   "cell_type": "code",
   "execution_count": 4,
   "metadata": {},
   "outputs": [],
   "source": [
    "input_image_path = \"../output_blocksv2/block_1_1.tif\"\n",
    "output_folder = \"../output_blocks1_1\"\n",
    "cut_image_into_blocks512x512(input_image_path, output_folder)\n"
   ]
  }
 ],
 "metadata": {
  "kernelspec": {
   "display_name": "myenv",
   "language": "python",
   "name": "python3"
  },
  "language_info": {
   "codemirror_mode": {
    "name": "ipython",
    "version": 3
   },
   "file_extension": ".py",
   "mimetype": "text/x-python",
   "name": "python",
   "nbconvert_exporter": "python",
   "pygments_lexer": "ipython3",
   "version": "3.11.4"
  },
  "orig_nbformat": 4
 },
 "nbformat": 4,
 "nbformat_minor": 2
}
