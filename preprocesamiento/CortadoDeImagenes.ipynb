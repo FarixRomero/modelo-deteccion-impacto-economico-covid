{
 "cells": [
  {
   "cell_type": "code",
   "execution_count": 2,
   "metadata": {},
   "outputs": [],
   "source": [
    "from osgeo import gdal\n",
    "import os\n"
   ]
  },
  {
   "cell_type": "code",
   "execution_count": 3,
   "metadata": {},
   "outputs": [],
   "source": [
    "def cut_image_into_blocks(image_path, output_folder):\n",
    "    dataset = gdal.Open(image_path)\n",
    "    width = dataset.RasterXSize\n",
    "    height = dataset.RasterYSize\n",
    "    data_type = dataset.GetRasterBand(1).DataType\n",
    "\n",
    "    block_width = width // 4  # Dividir en 4 columnas\n",
    "    block_height = height // 4  # Dividir en 4 filas\n",
    "\n",
    "    if not os.path.exists(output_folder):\n",
    "        os.makedirs(output_folder)\n",
    "\n",
    "    for row in range(4):\n",
    "        for col in range(4):\n",
    "            x_offset = col * block_width\n",
    "            y_offset = row * block_height\n",
    "            output_name = f\"block_{row}_{col}.tif\"\n",
    "            output_path = os.path.join(output_folder, output_name)\n",
    "            gdal.Translate(output_path, dataset, format=\"GTiff\", srcWin=[x_offset, y_offset, block_width, block_height], \\\n",
    "                           creationOptions=[\"PHOTOMETRIC=RGB\"], outputType=data_type)"
   ]
  },
  {
   "cell_type": "code",
   "execution_count": 7,
   "metadata": {},
   "outputs": [],
   "source": [
    "input_image_path = \"../imagen/Rescalado2.TIF\"\n",
    "output_folder = \"../output_blocksv2\"\n",
    "cut_image_into_blocks(input_image_path, output_folder)\n"
   ]
  }
 ],
 "metadata": {
  "kernelspec": {
   "display_name": "myenv",
   "language": "python",
   "name": "python3"
  },
  "language_info": {
   "codemirror_mode": {
    "name": "ipython",
    "version": 3
   },
   "file_extension": ".py",
   "mimetype": "text/x-python",
   "name": "python",
   "nbconvert_exporter": "python",
   "pygments_lexer": "ipython3",
   "version": "3.11.4"
  },
  "orig_nbformat": 4
 },
 "nbformat": 4,
 "nbformat_minor": 2
}
