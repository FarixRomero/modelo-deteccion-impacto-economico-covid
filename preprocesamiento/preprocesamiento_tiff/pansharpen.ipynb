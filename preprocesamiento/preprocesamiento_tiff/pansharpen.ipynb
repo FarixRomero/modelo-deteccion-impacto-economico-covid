{
 "cells": [
  {
   "cell_type": "code",
   "execution_count": 10,
   "id": "8b8af6e9",
   "metadata": {},
   "outputs": [
    {
     "name": "stdout",
     "output_type": "stream",
     "text": [
      "/home/farix/python/dataset/TPMatarani/PANCROMATICA/IMG_PER1_20170423145642_ORT_P_006460.TIF /home/farix/python/dataset/TPMatarani/ESPECTRAL/IMG_PER1_20170423145642_ORT_MS_006460.TIF\n",
      "0...10...20...30...40...50...60...70...80...90...100 - done.\n"
     ]
    }
   ],
   "source": [
    "from osgeo_utils.gdal_pansharpen import gdal_pansharpen\n",
    "from osgeo import gdal\n",
    "import os\n",
    "\n",
    "# Directorio principal donde se encuentran las carpetas de imágenes\n",
    "base_dir = \"/home/farix/python/dataset\"\n",
    "\n",
    "# Lista de nombres de puertos o subdirectorios\n",
    "# nombres_de_puertos = [\"TPPaita\"]\n",
    "nombres_de_puertos = [\"TPMatarani\"]\n",
    "\n",
    "\n",
    "# Iterar a través de los nombres de puertos\n",
    "for puerto in nombres_de_puertos:\n",
    "    # Carpeta de imágenes espectrales RGB\n",
    "    spectral_dir = os.path.join(base_dir, puerto, \"ESPECTRAL\")\n",
    "    \n",
    "    # Carpeta de imágenes pancromáticas\n",
    "    pan_dir = os.path.join(base_dir, puerto, \"PANCROMATICA\")\n",
    "    \n",
    "    # Carpeta de salida TIFF\n",
    "    output_dir = os.path.join(base_dir, puerto, \"ALTARESO\")\n",
    "    \n",
    "    # Crear la carpeta de salida si no existe\n",
    "    os.makedirs(output_dir, exist_ok=True)\n",
    "    \n",
    "    # Obtener la lista de archivos en la carpeta pancromática\n",
    "    pan_files = [os.path.join(pan_dir, file) for file in os.listdir(pan_dir) if file.endswith(\".TIF\")]\n",
    "    \n",
    "    # Iterar a través de las imágenes pancromáticas\n",
    "    for pan_file in pan_files:\n",
    "        # Nombre del archivo espectro basado en el nombre del archivo pancromático\n",
    "        spectral_name = os.path.basename(pan_file).replace(\"_P_\", \"_MS_\")\n",
    "        spectral_file = os.path.join(spectral_dir, spectral_name)\n",
    "        \n",
    "        # Nombre del archivo de salida en la carpeta TIFF\n",
    "        output_filename = os.path.join(output_dir, os.path.splitext(os.path.basename(pan_file))[0] + \"_pansharpened.tif\")\n",
    "        # Verificar si el archivo de salida ya existe\n",
    "        if not os.path.exists(output_filename):\n",
    "            # Realizar el proceso de pansharpening si no existe\n",
    "            print(pan_file,spectral_file)\n",
    "            gdal_pansharpen(pan_name=pan_file, spectral_names=[spectral_file], dst_filename=output_filename)\n",
    "        else:\n",
    "            print(f\"El archivo {output_filename} ya existe, omitiendo el proceso de pansharpening.\")\n"
   ]
  }
 ],
 "metadata": {
  "kernelspec": {
   "display_name": "Python 3 (ipykernel)",
   "language": "python",
   "name": "python3"
  },
  "language_info": {
   "codemirror_mode": {
    "name": "ipython",
    "version": 3
   },
   "file_extension": ".py",
   "mimetype": "text/x-python",
   "name": "python",
   "nbconvert_exporter": "python",
   "pygments_lexer": "ipython3",
   "version": "3.11.4"
  }
 },
 "nbformat": 4,
 "nbformat_minor": 5
}
