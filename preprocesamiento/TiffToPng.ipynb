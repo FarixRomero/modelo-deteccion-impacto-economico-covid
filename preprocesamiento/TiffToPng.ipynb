{
 "cells": [
  {
   "cell_type": "code",
   "execution_count": 1,
   "metadata": {},
   "outputs": [
    {
     "name": "stdout",
     "output_type": "stream",
     "text": [
      "/home/farix/python/imagen/png/\n",
      "block_1_1.tif\n",
      "/home/farix/python/imagen/png/block_1_1.png\n",
      "gdal_translate -ot Byte -of PNG -scale_1 310 1724 -scale_2 365 1451 -scale_3 484 1600 -a_nodata none /home/farix/python/imagen/tiff/block_1_1.tif /home/farix/python/imagen/png/block_1_1.png\n",
      "Input file size is 1976, 2281\n",
      "0...10...20...30...40...50...60...70...80...90...100 - done.\n",
      "block_0_1.tif\n",
      "/home/farix/python/imagen/png/block_0_1.png\n",
      "gdal_translate -ot Byte -of PNG -scale_1 0 1194 -scale_2 0 950 -scale_3 0 1167 -a_nodata none /home/farix/python/imagen/tiff/block_0_1.tif /home/farix/python/imagen/png/block_0_1.png\n",
      "Input file size is 1976, 2281\n",
      "0...10...20...30...40...50...60...70...80...90...100 - done.\n",
      "block_2_1.tif\n",
      "/home/farix/python/imagen/png/block_2_1.png\n",
      "gdal_translate -ot Byte -of PNG -scale_1 346 1854 -scale_2 354 1544 -scale_3 528 1547 -a_nodata none /home/farix/python/imagen/tiff/block_2_1.tif /home/farix/python/imagen/png/block_2_1.png\n",
      "Input file size is 1976, 2281\n",
      "0...10...20...30...40...50...60...70...80...90...100 - done.\n",
      "rm /home/farix/python/imagen/png/*.aux.xml\n"
     ]
    },
    {
     "data": {
      "text/plain": [
       "0"
      ]
     },
     "execution_count": 1,
     "metadata": {},
     "output_type": "execute_result"
    }
   ],
   "source": [
    "import os\n",
    "import errno\n",
    "import rasterio\n",
    "from pathlib import Path\n",
    "\n",
    "# Lista los archivos con os.listdir\n",
    "# La ruta son los archivos tif\n",
    "folder_path_tif = '/home/farix/python/imagen/tiff/'\n",
    "\n",
    "# Cambia la ruta para guardar las imágenes png\n",
    "# Cambia tiff por png, para tener una carpeta con mismo nombres de las imágenes tif\n",
    "folder_path_png = folder_path_tif.replace('tiff', 'png')\n",
    "\n",
    "# Imprime la ruta del folder png\n",
    "print(folder_path_png)\n",
    "\n",
    "# Crea folder para guardar las imágenes png\n",
    "try:\n",
    "    os.mkdir(folder_path_png)\n",
    "except OSError as e:\n",
    "    if e.errno != errno.EEXIST:\n",
    "        raise\n",
    "\n",
    "# Recorre cada archivo en la carpeta de imágenes TIF\n",
    "for entry in os.listdir(folder_path_tif):\n",
    "    if os.path.isfile(os.path.join(folder_path_tif, entry)):\n",
    "        print(entry)\n",
    "        # Para GDAL, toma los valores máximos y mínimos de cada banda en la imagen TIF\n",
    "        # Con rasterio\n",
    "        RGB = os.path.join(folder_path_tif, entry)\n",
    "        imagen_tif = rasterio.open(RGB)\n",
    "\n",
    "        # Lectura del valor mínimo de la banda 1\n",
    "        arrayMin1 = imagen_tif.read(1)\n",
    "        banda1Min = arrayMin1.min()\n",
    "        \n",
    "        # Lectura del valor máximo de la banda 1\n",
    "        arrayMax1 = imagen_tif.read(1)\n",
    "        banda1Max = arrayMax1.max()\n",
    "\n",
    "        # Lectura del valor mínimo de la banda 2\n",
    "        arrayMin2 = imagen_tif.read(2)\n",
    "        banda2Min = arrayMin2.min()\n",
    "\n",
    "        # Lectura del valor máximo de la banda 2\n",
    "        arrayMax2 = imagen_tif.read(2)\n",
    "        banda2Max = arrayMax2.max()\n",
    "\n",
    "        # Lectura del valor mínimo de la banda 3\n",
    "        arrayMin3 = imagen_tif.read(3)\n",
    "        banda3Min = arrayMin3.min()\n",
    "\n",
    "        # Lectura del valor máximo de la banda 3\n",
    "        arrayMax3 = imagen_tif.read(3)\n",
    "        banda3Max = arrayMax3.max()\n",
    "\n",
    "        # Conversión a PNG\n",
    "\n",
    "        # La carpeta de salida de los archivos png\n",
    "        # Archivo de salida, el nombre es el mismo que el archivo de entrada con extensión PNG\n",
    "        \n",
    "        without_ext = os.path.splitext(entry)[0]\n",
    "        file_PNG = folder_path_png + without_ext + '.png'\n",
    "        print(file_PNG)\n",
    "\n",
    "        to_png = ('gdal_translate -ot Byte -of PNG -scale_1 ' + str(banda1Min) + ' ' + str(\n",
    "            banda1Max) + ' -scale_2 ' + str(banda2Min) + ' ' + str(banda2Max) + ' -scale_3 ' + str(\n",
    "            banda3Min) + ' ' + str(banda3Max) + ' -a_nodata none ' + RGB + ' ' + file_PNG)\n",
    "        \n",
    "        print(to_png)\n",
    "        \n",
    "        # Ejecuta en un bash de linux para la conversión\n",
    "        os.system(to_png)\n",
    "\n",
    "# Elimina los archivos xml generados durante la conversión\n",
    "delete_xml = \"rm \" + folder_path_png + \"*.aux.xml\"\n",
    "print(delete_xml)\n",
    "os.system(delete_xml)\n"
   ]
  }
 ],
 "metadata": {
  "kernelspec": {
   "display_name": "rasterio",
   "language": "python",
   "name": "python3"
  },
  "language_info": {
   "codemirror_mode": {
    "name": "ipython",
    "version": 3
   },
   "file_extension": ".py",
   "mimetype": "text/x-python",
   "name": "python",
   "nbconvert_exporter": "python",
   "pygments_lexer": "ipython3",
   "version": "3.11.4"
  },
  "orig_nbformat": 4
 },
 "nbformat": 4,
 "nbformat_minor": 2
}
