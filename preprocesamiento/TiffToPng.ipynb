{
 "cells": [
  {
   "cell_type": "code",
   "execution_count": 19,
   "metadata": {},
   "outputs": [
    {
     "name": "stdout",
     "output_type": "stream",
     "text": [
      "Input file size is 7905, 9125\n",
      "0...10...20...30...40...50...60...70...80...90...100 - done.\n"
     ]
    },
    {
     "data": {
      "text/plain": [
       "0"
      ]
     },
     "execution_count": 19,
     "metadata": {},
     "output_type": "execute_result"
    }
   ],
   "source": [
    "import os\n",
    "input_image_path = \"../imagen/rgbImagen.tif\"\n",
    "output_folder = \"../output_blocksv3\"\n",
    "cmd =f\"gdal_translate -ot Float32 {input_image_path} ../imagen/rgbImagen32.tif\"\n",
    "os.system(cmd)"
   ]
  },
  {
   "cell_type": "code",
   "execution_count": 21,
   "metadata": {},
   "outputs": [
    {
     "name": "stdout",
     "output_type": "stream",
     "text": [
      "gdal_translate -srcwin 0 0 1976 2281 -of GTiff -co PHOTOMETRIC=SRGB -ot Float32 -scale_1 0.0 3383.0 -scale_2 0.0 3139.0 -scale_3 0.0 3193.0 ../imagen/rgbImagen32.tif ../output_blocksv3/block_0_0.tif \n",
      "Input file size is 7905, 9125\n",
      "0...10...20..."
     ]
    },
    {
     "name": "stderr",
     "output_type": "stream",
     "text": [
      "Warning 6: 'SRGB' is an unexpected value for PHOTOMETRIC creation option of type string-select.\n",
      "Warning 5: ../output_blocksv3/block_0_0.tif: PHOTOMETRIC=SRGB value not recognised, ignoring.  Set the Photometric Interpretation as MINISBLACK.\n"
     ]
    },
    {
     "name": "stdout",
     "output_type": "stream",
     "text": [
      "30...40...50...60...70...80...90...100 - done.\n",
      "gdal_translate -srcwin 1976 0 1976 2281 -of GTiff -co PHOTOMETRIC=SRGB -ot Float32 -scale_1 0.0 3383.0 -scale_2 0.0 3139.0 -scale_3 0.0 3193.0 ../imagen/rgbImagen32.tif ../output_blocksv3/block_0_1.tif \n",
      "Input file size is 7905, 9125\n",
      "0...10...20...30..."
     ]
    },
    {
     "name": "stderr",
     "output_type": "stream",
     "text": [
      "Warning 6: 'SRGB' is an unexpected value for PHOTOMETRIC creation option of type string-select.\n",
      "Warning 5: ../output_blocksv3/block_0_1.tif: PHOTOMETRIC=SRGB value not recognised, ignoring.  Set the Photometric Interpretation as MINISBLACK.\n"
     ]
    },
    {
     "name": "stdout",
     "output_type": "stream",
     "text": [
      "40...50...60...70...80...90...100 - done.\n",
      "gdal_translate -srcwin 3952 0 1976 2281 -of GTiff -co PHOTOMETRIC=SRGB -ot Float32 -scale_1 0.0 3383.0 -scale_2 0.0 3139.0 -scale_3 0.0 3193.0 ../imagen/rgbImagen32.tif ../output_blocksv3/block_0_2.tif \n"
     ]
    },
    {
     "name": "stderr",
     "output_type": "stream",
     "text": [
      "Warning 6: 'SRGB' is an unexpected value for PHOTOMETRIC creation option of type string-select.\n",
      "Warning 5: ../output_blocksv3/block_0_2.tif: PHOTOMETRIC=SRGB value not recognised, ignoring.  Set the Photometric Interpretation as MINISBLACK.\n"
     ]
    },
    {
     "name": "stdout",
     "output_type": "stream",
     "text": [
      "Input file size is 7905, 9125\n",
      "0...10...20...30...40...50...60...70...80...90...100 - done.\n",
      "gdal_translate -srcwin 5928 0 1976 2281 -of GTiff -co PHOTOMETRIC=SRGB -ot Float32 -scale_1 0.0 3383.0 -scale_2 0.0 3139.0 -scale_3 0.0 3193.0 ../imagen/rgbImagen32.tif ../output_blocksv3/block_0_3.tif \n",
      "Input file size is 7905, 9125\n",
      "0...10.."
     ]
    },
    {
     "name": "stderr",
     "output_type": "stream",
     "text": [
      "Warning 6: 'SRGB' is an unexpected value for PHOTOMETRIC creation option of type string-select.\n",
      "Warning 5: ../output_blocksv3/block_0_3.tif: PHOTOMETRIC=SRGB value not recognised, ignoring.  Set the Photometric Interpretation as MINISBLACK.\n"
     ]
    },
    {
     "name": "stdout",
     "output_type": "stream",
     "text": [
      ".20...30...40...50...60...70...80...90...100 - done.\n",
      "gdal_translate -srcwin 0 2281 1976 2281 -of GTiff -co PHOTOMETRIC=SRGB -ot Float32 -scale_1 0.0 3383.0 -scale_2 0.0 3139.0 -scale_3 0.0 3193.0 ../imagen/rgbImagen32.tif ../output_blocksv3/block_1_0.tif \n",
      "Input file size is 7905, 9125\n",
      "0...10.."
     ]
    },
    {
     "name": "stderr",
     "output_type": "stream",
     "text": [
      "Warning 6: 'SRGB' is an unexpected value for PHOTOMETRIC creation option of type string-select.\n",
      "Warning 5: ../output_blocksv3/block_1_0.tif: PHOTOMETRIC=SRGB value not recognised, ignoring.  Set the Photometric Interpretation as MINISBLACK.\n"
     ]
    },
    {
     "name": "stdout",
     "output_type": "stream",
     "text": [
      ".20...30...40...50...60...70...80...90...100 - done.\n",
      "gdal_translate -srcwin 1976 2281 1976 2281 -of GTiff -co PHOTOMETRIC=SRGB -ot Float32 -scale_1 0.0 3383.0 -scale_2 0.0 3139.0 -scale_3 0.0 3193.0 ../imagen/rgbImagen32.tif ../output_blocksv3/block_1_1.tif \n",
      "Input file size is 7905, 9125\n",
      "0...10.."
     ]
    },
    {
     "name": "stderr",
     "output_type": "stream",
     "text": [
      "Warning 6: 'SRGB' is an unexpected value for PHOTOMETRIC creation option of type string-select.\n",
      "Warning 5: ../output_blocksv3/block_1_1.tif: PHOTOMETRIC=SRGB value not recognised, ignoring.  Set the Photometric Interpretation as MINISBLACK.\n"
     ]
    },
    {
     "name": "stdout",
     "output_type": "stream",
     "text": [
      ".20...30...40...50...60...70...80...90...100 - done.\n",
      "gdal_translate -srcwin 3952 2281 1976 2281 -of GTiff -co PHOTOMETRIC=SRGB -ot Float32 -scale_1 0.0 3383.0 -scale_2 0.0 3139.0 -scale_3 0.0 3193.0 ../imagen/rgbImagen32.tif ../output_blocksv3/block_1_2.tif \n",
      "Input file size is 7905, 9125\n",
      "0...10...20...30...40...50."
     ]
    },
    {
     "name": "stderr",
     "output_type": "stream",
     "text": [
      "Warning 6: 'SRGB' is an unexpected value for PHOTOMETRIC creation option of type string-select.\n",
      "Warning 5: ../output_blocksv3/block_1_2.tif: PHOTOMETRIC=SRGB value not recognised, ignoring.  Set the Photometric Interpretation as MINISBLACK.\n"
     ]
    },
    {
     "name": "stdout",
     "output_type": "stream",
     "text": [
      "..60...70...80...90...100 - done.\n",
      "gdal_translate -srcwin 5928 2281 1976 2281 -of GTiff -co PHOTOMETRIC=SRGB -ot Float32 -scale_1 0.0 3383.0 -scale_2 0.0 3139.0 -scale_3 0.0 3193.0 ../imagen/rgbImagen32.tif ../output_blocksv3/block_1_3.tif \n"
     ]
    },
    {
     "name": "stderr",
     "output_type": "stream",
     "text": [
      "Warning 6: 'SRGB' is an unexpected value for PHOTOMETRIC creation option of type string-select.\n",
      "Warning 5: ../output_blocksv3/block_1_3.tif: PHOTOMETRIC=SRGB value not recognised, ignoring.  Set the Photometric Interpretation as MINISBLACK.\n"
     ]
    },
    {
     "name": "stdout",
     "output_type": "stream",
     "text": [
      "Input file size is 7905, 9125\n",
      "0...10...20...30...40...50...60...70...80...90...100 - done.\n",
      "gdal_translate -srcwin 0 4562 1976 2281 -of GTiff -co PHOTOMETRIC=SRGB -ot Float32 -scale_1 0.0 3383.0 -scale_2 0.0 3139.0 -scale_3 0.0 3193.0 ../imagen/rgbImagen32.tif ../output_blocksv3/block_2_0.tif \n"
     ]
    },
    {
     "name": "stderr",
     "output_type": "stream",
     "text": [
      "Warning 6: 'SRGB' is an unexpected value for PHOTOMETRIC creation option of type string-select.\n",
      "Warning 5: ../output_blocksv3/block_2_0.tif: PHOTOMETRIC=SRGB value not recognised, ignoring.  Set the Photometric Interpretation as MINISBLACK.\n"
     ]
    },
    {
     "name": "stdout",
     "output_type": "stream",
     "text": [
      "Input file size is 7905, 9125\n",
      "0...10...20...30...40...50...60...70...80...90...100 - done.\n",
      "gdal_translate -srcwin 1976 4562 1976 2281 -of GTiff -co PHOTOMETRIC=SRGB -ot Float32 -scale_1 0.0 3383.0 -scale_2 0.0 3139.0 -scale_3 0.0 3193.0 ../imagen/rgbImagen32.tif ../output_blocksv3/block_2_1.tif \n"
     ]
    },
    {
     "name": "stderr",
     "output_type": "stream",
     "text": [
      "Warning 6: 'SRGB' is an unexpected value for PHOTOMETRIC creation option of type string-select.\n",
      "Warning 5: ../output_blocksv3/block_2_1.tif: PHOTOMETRIC=SRGB value not recognised, ignoring.  Set the Photometric Interpretation as MINISBLACK.\n"
     ]
    },
    {
     "name": "stdout",
     "output_type": "stream",
     "text": [
      "Input file size is 7905, 9125\n",
      "0...10...20...30...40...50...60...70...80...90...100 - done.\n",
      "gdal_translate -srcwin 3952 4562 1976 2281 -of GTiff -co PHOTOMETRIC=SRGB -ot Float32 -scale_1 0.0 3383.0 -scale_2 0.0 3139.0 -scale_3 0.0 3193.0 ../imagen/rgbImagen32.tif ../output_blocksv3/block_2_2.tif \n"
     ]
    },
    {
     "name": "stderr",
     "output_type": "stream",
     "text": [
      "Warning 6: 'SRGB' is an unexpected value for PHOTOMETRIC creation option of type string-select.\n",
      "Warning 5: ../output_blocksv3/block_2_2.tif: PHOTOMETRIC=SRGB value not recognised, ignoring.  Set the Photometric Interpretation as MINISBLACK.\n"
     ]
    },
    {
     "name": "stdout",
     "output_type": "stream",
     "text": [
      "Input file size is 7905, 9125\n",
      "0...10...20...30...40...50...60...70...80...90...100 - done.\n",
      "gdal_translate -srcwin 5928 4562 1976 2281 -of GTiff -co PHOTOMETRIC=SRGB -ot Float32 -scale_1 0.0 3383.0 -scale_2 0.0 3139.0 -scale_3 0.0 3193.0 ../imagen/rgbImagen32.tif ../output_blocksv3/block_2_3.tif \n"
     ]
    },
    {
     "name": "stderr",
     "output_type": "stream",
     "text": [
      "Warning 6: 'SRGB' is an unexpected value for PHOTOMETRIC creation option of type string-select.\n",
      "Warning 5: ../output_blocksv3/block_2_3.tif: PHOTOMETRIC=SRGB value not recognised, ignoring.  Set the Photometric Interpretation as MINISBLACK.\n"
     ]
    },
    {
     "name": "stdout",
     "output_type": "stream",
     "text": [
      "Input file size is 7905, 9125\n",
      "0...10...20...30...40...50...60...70...80...90...100 - done.\n",
      "gdal_translate -srcwin 0 6843 1976 2281 -of GTiff -co PHOTOMETRIC=SRGB -ot Float32 -scale_1 0.0 3383.0 -scale_2 0.0 3139.0 -scale_3 0.0 3193.0 ../imagen/rgbImagen32.tif ../output_blocksv3/block_3_0.tif \n"
     ]
    },
    {
     "name": "stderr",
     "output_type": "stream",
     "text": [
      "Warning 6: 'SRGB' is an unexpected value for PHOTOMETRIC creation option of type string-select.\n",
      "Warning 5: ../output_blocksv3/block_3_0.tif: PHOTOMETRIC=SRGB value not recognised, ignoring.  Set the Photometric Interpretation as MINISBLACK.\n"
     ]
    },
    {
     "name": "stdout",
     "output_type": "stream",
     "text": [
      "Input file size is 7905, 9125\n",
      "0...10...20...30...40...50...60...70...80...90...100 - done.\n",
      "gdal_translate -srcwin 1976 6843 1976 2281 -of GTiff -co PHOTOMETRIC=SRGB -ot Float32 -scale_1 0.0 3383.0 -scale_2 0.0 3139.0 -scale_3 0.0 3193.0 ../imagen/rgbImagen32.tif ../output_blocksv3/block_3_1.tif \n"
     ]
    },
    {
     "name": "stderr",
     "output_type": "stream",
     "text": [
      "Warning 6: 'SRGB' is an unexpected value for PHOTOMETRIC creation option of type string-select.\n",
      "Warning 5: ../output_blocksv3/block_3_1.tif: PHOTOMETRIC=SRGB value not recognised, ignoring.  Set the Photometric Interpretation as MINISBLACK.\n"
     ]
    },
    {
     "name": "stdout",
     "output_type": "stream",
     "text": [
      "Input file size is 7905, 9125\n",
      "0...10...20...30...40...50...60...70...80...90...100 - done.\n",
      "gdal_translate -srcwin 3952 6843 1976 2281 -of GTiff -co PHOTOMETRIC=SRGB -ot Float32 -scale_1 0.0 3383.0 -scale_2 0.0 3139.0 -scale_3 0.0 3193.0 ../imagen/rgbImagen32.tif ../output_blocksv3/block_3_2.tif \n",
      "Input file size is 7905, 9125\n",
      "0...10...20...30...40."
     ]
    },
    {
     "name": "stderr",
     "output_type": "stream",
     "text": [
      "Warning 6: 'SRGB' is an unexpected value for PHOTOMETRIC creation option of type string-select.\n",
      "Warning 5: ../output_blocksv3/block_3_2.tif: PHOTOMETRIC=SRGB value not recognised, ignoring.  Set the Photometric Interpretation as MINISBLACK.\n"
     ]
    },
    {
     "name": "stdout",
     "output_type": "stream",
     "text": [
      "..50...60...70...80...90...100 - done.\n",
      "gdal_translate -srcwin 5928 6843 1976 2281 -of GTiff -co PHOTOMETRIC=SRGB -ot Float32 -scale_1 0.0 3383.0 -scale_2 0.0 3139.0 -scale_3 0.0 3193.0 ../imagen/rgbImagen32.tif ../output_blocksv3/block_3_3.tif \n",
      "Input file size is 7905, 9125\n",
      "0...10...20...30.."
     ]
    },
    {
     "name": "stderr",
     "output_type": "stream",
     "text": [
      "Warning 6: 'SRGB' is an unexpected value for PHOTOMETRIC creation option of type string-select.\n",
      "Warning 5: ../output_blocksv3/block_3_3.tif: PHOTOMETRIC=SRGB value not recognised, ignoring.  Set the Photometric Interpretation as MINISBLACK.\n"
     ]
    },
    {
     "name": "stdout",
     "output_type": "stream",
     "text": [
      ".40...50...60...70...80...90...100 - done.\n"
     ]
    }
   ],
   "source": [
    "import os\n",
    "import rasterio\n",
    "from rasterio.windows import Window\n",
    "\n",
    "def cut_image_into_blocks(image_path, output_folder):\n",
    "    src = rasterio.open(image_path)\n",
    "    width = src.width\n",
    "    height = src.height\n",
    "    # Lectura del valor mínimo de la banda 1\n",
    "    arrayMin1 = src.read(1)\n",
    "    banda1Min = arrayMin1.min()\n",
    "    \n",
    "    # Lectura del valor máximo de la banda 1\n",
    "    arrayMax1 = src.read(1)\n",
    "    banda1Max = arrayMax1.max()\n",
    "\n",
    "    # Lectura del valor mínimo de la banda 2\n",
    "    arrayMin2 = src.read(2)\n",
    "    banda2Min = arrayMin2.min()\n",
    "\n",
    "    # Lectura del valor máximo de la banda 2\n",
    "    arrayMax2 = src.read(2)\n",
    "    banda2Max = arrayMax2.max()\n",
    "\n",
    "    # Lectura del valor mínimo de la banda 3\n",
    "    arrayMin3 = src.read(3)\n",
    "    banda3Min = arrayMin3.min()\n",
    "\n",
    "    # Lectura del valor máximo de la banda 3\n",
    "    arrayMax3 = src.read(3)\n",
    "    banda3Max = arrayMax3.max()\n",
    "\n",
    "    block_width = width // 4  # Dividir en 4 columnas\n",
    "    block_height = height // 4  # Dividir en 4 filas\n",
    "\n",
    "    if not os.path.exists(output_folder):\n",
    "        os.makedirs(output_folder)\n",
    "\n",
    "    for row in range(4):\n",
    "        for col in range(4):\n",
    "            x_offset = col * block_width\n",
    "            y_offset = row * block_height\n",
    "            output_name = f\"block_{row}_{col}.tif\"\n",
    "            output_path = os.path.join(output_folder, output_name)\n",
    "\n",
    "            # Construye el comando gdal_translate\n",
    "            cmd = f\"gdal_translate -srcwin {x_offset} {y_offset} {block_width} {block_height} -of GTiff -co PHOTOMETRIC=RGB -ot Float32 -scale_1 {banda1Min} {banda1Max} -scale_2 {banda2Min} {banda2Max} -scale_3 {banda3Min} {banda3Max} {image_path} {output_path} \"\n",
    "            print(cmd)\n",
    "\n",
    "            # Ejecuta el comando en la línea de comandos\n",
    "            os.system(cmd)\n",
    "\n",
    "# Ejemplo de uso\n",
    "input_image_path = \"../imagen/rgbImagen32.tif\"\n",
    "output_folder = \"../output_blocksv3\"\n",
    "cut_image_into_blocks(input_image_path, output_folder)\n",
    "\n"
   ]
  },
  {
   "cell_type": "code",
   "execution_count": 10,
   "metadata": {},
   "outputs": [
    {
     "name": "stdout",
     "output_type": "stream",
     "text": [
      "/home/farix/python/imagen/png/\n",
      "rgbImagen.tif\n",
      "/home/farix/python/imagen/png/rgbImagen.png\n",
      "gdal_translate -ot Byte -of PNG -scale_1 0 3383 -scale_2 0 3139 -scale_3 0 3193 -a_nodata none /home/farix/python/imagen/tiff/rgbImagen.tif /home/farix/python/imagen/png/rgbImagen.png\n",
      "block_1_1.tif\n",
      "/home/farix/python/imagen/png/block_1_1.png\n",
      "gdal_translate -ot Byte -of PNG -scale_1 310 1724 -scale_2 365 1451 -scale_3 484 1600 -a_nodata none /home/farix/python/imagen/tiff/block_1_1.tif /home/farix/python/imagen/png/block_1_1.png\n",
      "block_0_1.tif\n",
      "/home/farix/python/imagen/png/block_0_1.png\n",
      "gdal_translate -ot Byte -of PNG -scale_1 0 1194 -scale_2 0 950 -scale_3 0 1167 -a_nodata none /home/farix/python/imagen/tiff/block_0_1.tif /home/farix/python/imagen/png/block_0_1.png\n",
      "block_2_1.tif\n",
      "/home/farix/python/imagen/png/block_2_1.png\n",
      "gdal_translate -ot Byte -of PNG -scale_1 346 1854 -scale_2 354 1544 -scale_3 528 1547 -a_nodata none /home/farix/python/imagen/tiff/block_2_1.tif /home/farix/python/imagen/png/block_2_1.png\n",
      "rm /home/farix/python/imagen/png/*.aux.xml\n"
     ]
    },
    {
     "name": "stderr",
     "output_type": "stream",
     "text": [
      "rm: cannot remove '/home/farix/python/imagen/png/*.aux.xml': No such file or directory\n"
     ]
    },
    {
     "data": {
      "text/plain": [
       "256"
      ]
     },
     "execution_count": 10,
     "metadata": {},
     "output_type": "execute_result"
    }
   ],
   "source": [
    "import os\n",
    "import errno\n",
    "import rasterio\n",
    "from pathlib import Path\n",
    "\n",
    "# Lista los archivos con os.listdir\n",
    "# La ruta son los archivos tif\n",
    "folder_path_tif = '/home/farix/python/imagen/tiff/'\n",
    "\n",
    "# Cambia la ruta para guardar las imágenes png\n",
    "# Cambia tiff por png, para tener una carpeta con mismo nombres de las imágenes tif\n",
    "folder_path_png = folder_path_tif.replace('tiff', 'png')\n",
    "\n",
    "# Imprime la ruta del folder png\n",
    "print(folder_path_png)\n",
    "\n",
    "# Crea folder para guardar las imágenes png\n",
    "try:\n",
    "    os.mkdir(folder_path_png)\n",
    "except OSError as e:\n",
    "    if e.errno != errno.EEXIST:\n",
    "        raise\n",
    "\n",
    "# Recorre cada archivo en la carpeta de imágenes TIF\n",
    "for entry in os.listdir(folder_path_tif):\n",
    "    if os.path.isfile(os.path.join(folder_path_tif, entry)):\n",
    "        print(entry)\n",
    "        # Para GDAL, toma los valores máximos y mínimos de cada banda en la imagen TIF\n",
    "        # Con rasterio\n",
    "        RGB = os.path.join(folder_path_tif, entry)\n",
    "        imagen_tif = rasterio.open(RGB)\n",
    "\n",
    "        # Lectura del valor mínimo de la banda 1\n",
    "        arrayMin1 = imagen_tif.read(1)\n",
    "        banda1Min = arrayMin1.min()\n",
    "        \n",
    "        # Lectura del valor máximo de la banda 1\n",
    "        arrayMax1 = imagen_tif.read(1)\n",
    "        banda1Max = arrayMax1.max()\n",
    "\n",
    "        # Lectura del valor mínimo de la banda 2\n",
    "        arrayMin2 = imagen_tif.read(2)\n",
    "        banda2Min = arrayMin2.min()\n",
    "\n",
    "        # Lectura del valor máximo de la banda 2\n",
    "        arrayMax2 = imagen_tif.read(2)\n",
    "        banda2Max = arrayMax2.max()\n",
    "\n",
    "        # Lectura del valor mínimo de la banda 3\n",
    "        arrayMin3 = imagen_tif.read(3)\n",
    "        banda3Min = arrayMin3.min()\n",
    "\n",
    "        # Lectura del valor máximo de la banda 3\n",
    "        arrayMax3 = imagen_tif.read(3)\n",
    "        banda3Max = arrayMax3.max()\n",
    "\n",
    "        # Conversión a PNG\n",
    "\n",
    "        # La carpeta de salida de los archivos png\n",
    "        # Archivo de salida, el nombre es el mismo que el archivo de entrada con extensión PNG\n",
    "        \n",
    "        without_ext = os.path.splitext(entry)[0]\n",
    "        file_PNG = folder_path_png + without_ext + '.png'\n",
    "        print(file_PNG)\n",
    "\n",
    "        to_png = ('gdal_translate -ot Byte -of PNG -scale_1 ' + str(banda1Min) + ' ' + str(\n",
    "            banda1Max) + ' -scale_2 ' + str(banda2Min) + ' ' + str(banda2Max) + ' -scale_3 ' + str(\n",
    "            banda3Min) + ' ' + str(banda3Max) + ' -a_nodata none ' + RGB + ' ' + file_PNG)\n",
    "        \n",
    "        print(to_png)\n",
    "        \n",
    "        # Ejecuta en un bash de linux para la conversión\n",
    "        # os.system(to_png)\n",
    "\n",
    "# Elimina los archivos xml generados durante la conversión\n",
    "delete_xml = \"rm \" + folder_path_png + \"*.aux.xml\"\n",
    "print(delete_xml)\n",
    "os.system(delete_xml)\n"
   ]
  }
 ],
 "metadata": {
  "kernelspec": {
   "display_name": "rasterio",
   "language": "python",
   "name": "python3"
  },
  "language_info": {
   "codemirror_mode": {
    "name": "ipython",
    "version": 3
   },
   "file_extension": ".py",
   "mimetype": "text/x-python",
   "name": "python",
   "nbconvert_exporter": "python",
   "pygments_lexer": "ipython3",
   "version": "3.11.4"
  },
  "orig_nbformat": 4
 },
 "nbformat": 4,
 "nbformat_minor": 2
}
