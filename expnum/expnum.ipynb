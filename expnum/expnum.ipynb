{
 "cells": [
  {
   "cell_type": "code",
   "execution_count": null,
   "metadata": {},
   "outputs": [],
   "source": [
    "import pandas as pd\n",
    "import matplotlib.pyplot as plt\n",
    "import seaborn as sns\n",
    "\n",
    "# Crear un DataFrame con tus datos (solo 'PIB Per Capita' y 'Cantidad de Naves Recepcionadas')\n",
    "data = {\n",
    "    'PIB Per Capita': [12382, 13316, 14055, 14811, 15556, 15779, 16103, 16487, 16602, 16940, 17012, 14908, 16719, 16986],\n",
    "    'Cantidad de Naves Recepcionadas': [9044, 11820, 12375, 13260, 15807, 14643, 14402, 15709, 16338, 17730, 19577, 14936, 18607, 14701]\n",
    "}\n",
    "\n",
    "df = pd.DataFrame(data)\n",
    "\n",
    "# Calcular la matriz de correlación\n",
    "correlation_matrix = df.corr()\n",
    "\n",
    "# Crear un gráfico de correlación usando seaborn\n",
    "plt.figure(figsize=(6, 4))\n",
    "sns.heatmap(correlation_matrix, annot=True, cmap='coolwarm', fmt=\".2f\")\n",
    "plt.title('Correlación entre PIB Per Capita y Cantidad de Naves Recepcionadas')\n",
    "plt.show()\n"
   ]
  },
  {
   "cell_type": "code",
   "execution_count": null,
   "metadata": {},
   "outputs": [],
   "source": [
    "# Calcular el coeficiente de correlación de Pearson\n",
    "correlation = df['PIB Per Capita'].corr(df['Cantidad de Naves Recepcionadas'])\n",
    "\n",
    "print(f\"Coeficiente de Correlación de Pearson: {correlation}\")"
   ]
  },
  {
   "cell_type": "code",
   "execution_count": null,
   "metadata": {},
   "outputs": [],
   "source": [
    "import pandas as pd\n",
    "import matplotlib.pyplot as plt\n",
    "import seaborn as sns\n",
    "\n",
    "# Crear un DataFrame con tus datos\n",
    "data = {\n",
    "    'Año': [2009, 2010, 2011, 2012, 2013, 2014, 2015, 2016, 2017, 2018, 2019, 2020, 2021, 2022],\n",
    "    'PIB Per Capita': [12382, 13316, 14055, 14811, 15556, 15779, 16103, 16487, 16602, 16940, 17012, 14908, 16719, 16986],\n",
    "    'Cantidad de Naves Recepcionadas': [9044, 11820, 12375, 13260, 15807, 14643, 14402, 15709, 16338, 17730, 19577, 14936, 18607, 14701]\n",
    "}\n",
    "\n",
    "df = pd.DataFrame(data)\n",
    "\n",
    "\n",
    "# Gráfico de Línea de Regresión\n",
    "plt.figure(figsize=(8, 6))\n",
    "sns.regplot(x='PIB Per Capita', y='Cantidad de Naves Recepcionadas', data=df, ci=None)\n",
    "plt.title('Gráfico de Línea de Regresión')\n",
    "plt.xlabel('PIB Per Capita')\n",
    "plt.ylabel('Cantidad de Naves Recepcionadas')\n",
    "plt.grid(True)\n",
    "plt.show()\n",
    "\n"
   ]
  },
  {
   "cell_type": "code",
   "execution_count": null,
   "metadata": {},
   "outputs": [],
   "source": [
    "import pandas as pd\n",
    "import matplotlib.pyplot as plt\n",
    "import seaborn as sns\n",
    "\n",
    "# Crear un DataFrame con tus datos (solo 'PIB Per Capita' y 'Cantidad de Naves Recepcionadas')\n",
    "data = {\n",
    "    'Año': [2009, 2010, 2011, 2012, 2013, 2014, 2015, 2016, 2017, 2018, 2019, 2020, 2021, 2022],\n",
    "    'PIB Per Capita': [12382, 13316, 14055, 14811, 15556, 15779, 16103, 16487, 16602, 16940, 17012, 14908, 16719, 16986],\n",
    "    'Cantidad de Naves Recepcionadas': [9044, 11820, 12375, 13260, 15807, 14643, 14402, 15709, 16338, 17730, 19577, 14936, 18607, 14701]\n",
    "}\n",
    "\n",
    "df = pd.DataFrame(data)\n",
    "\n",
    "# Crear un diagrama de dispersión (scatter plot) con colores por año\n",
    "plt.figure(figsize=(10, 6))\n",
    "palette = sns.color_palette(\"viridis\", as_cmap=True)\n",
    "\n",
    "for year in df['Año'].unique():\n",
    "    subset = df[df['Año'] == year]\n",
    "    plt.scatter(subset['PIB Per Capita'], subset['Cantidad de Naves Recepcionadas'], label=year, alpha=0.7)\n",
    "\n",
    "plt.title('Diagrama de Dispersión con Colores por Año')\n",
    "plt.xlabel('PIB Per Capita S/.')\n",
    "plt.ylabel('Cantidad de Naves Recepcionadas')\n",
    "plt.legend(title='Año')\n",
    "plt.grid(True)\n",
    "plt.show()"
   ]
  }
 ],
 "metadata": {
  "language_info": {
   "name": "python"
  }
 },
 "nbformat": 4,
 "nbformat_minor": 2
}
